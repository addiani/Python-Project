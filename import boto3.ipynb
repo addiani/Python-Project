{
 "cells": [
  {
   "cell_type": "code",
   "execution_count": null,
   "metadata": {},
   "outputs": [],
   "source": [
    "import boto3\n",
    "import json\n",
    " \n",
    "ec2client = boto3.client('ec2')\n",
    "\n",
    "data = ec2.describe_instances()\n",
    "\n",
    "def get_instances():\n",
    "    for item in data['Reservations']:\n",
    "        if item['Instances'][0]['State']['Name'].lower() == 'running':\n",
    "        print('Instances', item['Instances'][0]['InstanceId'])\n",
    "        print('SubnetId', item['Instances'][0]['SubnetId'])\n",
    "        \n",
    "        \n",
    "ec2 = boto3.resource('ec2')\n",
    "ec2.create_instances(ImageId='ami-0b898040803850657', MinCount=1, MaxCount"
   ]
  },
  {
   "cell_type": "code",
   "execution_count": null,
   "metadata": {},
   "outputs": [],
   "source": [
    "get_instances()"
   ]
  },
  {
   "cell_type": "code",
   "execution_count": 3,
   "metadata": {},
   "outputs": [
    {
     "ename": "ModuleNotFoundError",
     "evalue": "No module named 'boto3'",
     "output_type": "error",
     "traceback": [
      "\u001b[0;31m---------------------------------------------------------------------------\u001b[0m",
      "\u001b[0;31mModuleNotFoundError\u001b[0m                       Traceback (most recent call last)",
      "\u001b[0;32m<ipython-input-3-6f4f90c6eb61>\u001b[0m in \u001b[0;36m<module>\u001b[0;34m\u001b[0m\n\u001b[1;32m      1\u001b[0m \u001b[0;34m\u001b[0m\u001b[0m\n\u001b[0;32m----> 2\u001b[0;31m \u001b[0;32mimport\u001b[0m \u001b[0mboto3\u001b[0m\u001b[0;34m\u001b[0m\u001b[0m\n\u001b[0m\u001b[1;32m      3\u001b[0m \u001b[0;32mimport\u001b[0m \u001b[0mjson\u001b[0m\u001b[0;34m\u001b[0m\u001b[0m\n\u001b[1;32m      4\u001b[0m \u001b[0;32mimport\u001b[0m \u001b[0margparse\u001b[0m\u001b[0;34m\u001b[0m\u001b[0m\n\u001b[1;32m      5\u001b[0m \u001b[0;34m\u001b[0m\u001b[0m\n",
      "\u001b[0;31mModuleNotFoundError\u001b[0m: No module named 'boto3'"
     ]
    }
   ],
   "source": [
    "\n",
    "import boto3\n",
    "import json \n",
    "import argparse\n",
    "\n",
    "ec2 = boto3.client('ec2')\n",
    "\n",
    "images = {\n",
    "    'aws-linux'  : 'ami-0d8f6eb4f641ef691',\n",
    "    'centos'     : 'ami-0f2b4fc905b0bd1f1',\n",
    "}\n",
    "\n",
    "\n",
    "parser = argparse.ArgumentParser(description='Script to manager EC2 instances.')\n",
    "\n",
    "required = parser.add_argument_group('required group')\n",
    "required.add_argument('-n', '--name', help='Please provide image name for ec2 instances.', required=False)\n",
    "\n",
    "notrequired = parser.add_argument_group('not required group')\n",
    "notrequired.add_argument('-g', '--get', help='Please provide image id', required=False)\n",
    "args = parser.parse_args()\n",
    "\n",
    "\n",
    "\n",
    "def get_instances():\n",
    "    data = ec2.describe_instances()\n",
    "    for item in data['Reservations']:\n",
    "        if item['Instances'][0]['State']['Name'].lower() == 'running':\n",
    "            print('InstanceId', item['Instances'][0]['InstanceId'])\n",
    "            print('SubnetId', item['Instances'][0]['SubnetId'])\n",
    "\n",
    "def create_instance(name):\n",
    "    image_id = None \n",
    "    \n",
    "    if name in images.keys():\n",
    "        image_id =  images[name]\n",
    "    else:\n",
    "        print('Image not found ')\n",
    "\n",
    "    if image_id:\n",
    "        ec2 = boto3.resource('ec2')\n",
    "        ec2.create_instances(ImageId=image_id, MinCount=1, MaxCount=1, InstanceType='t2.micro')\n",
    "\n",
    "    \n",
    "def main():\n",
    "    if args.get:\n",
    "        get_instances()\n",
    "        exit()\n",
    "        \n",
    "    if args.name in images.keys():\n",
    "        create_instance(args.name)\n",
    "    else:\n",
    "        print('Image name is not supported.')\n",
    "    \n",
    "\n",
    "\n",
    "if __name__ == \"__main__\" :\n",
    "    main()\n",
    "    "
   ]
  },
  {
   "cell_type": "code",
   "execution_count": null,
   "metadata": {},
   "outputs": [],
   "source": []
  }
 ],
 "metadata": {
  "kernelspec": {
   "display_name": "Python 3",
   "language": "python",
   "name": "python3"
  },
  "language_info": {
   "codemirror_mode": {
    "name": "ipython",
    "version": 3
   },
   "file_extension": ".py",
   "mimetype": "text/x-python",
   "name": "python",
   "nbconvert_exporter": "python",
   "pygments_lexer": "ipython3",
   "version": "3.6.5"
  }
 },
 "nbformat": 4,
 "nbformat_minor": 2
}
