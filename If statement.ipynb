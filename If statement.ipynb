{
 "cells": [
  {
   "cell_type": "code",
   "execution_count": 1,
   "metadata": {},
   "outputs": [
    {
     "data": {
      "text/plain": [
       "str"
      ]
     },
     "execution_count": 1,
     "metadata": {},
     "output_type": "execute_result"
    }
   ],
   "source": [
    "door = 'open'\n",
    "type(door)"
   ]
  },
  {
   "cell_type": "code",
   "execution_count": 12,
   "metadata": {},
   "outputs": [
    {
     "name": "stdout",
     "output_type": "stream",
     "text": [
      "No, you can not go!!!\n"
     ]
    }
   ],
   "source": [
    "door = 'close'\n",
    "if door == 'open':\n",
    "    print ('Yes, you can go!!!')\n",
    "\n",
    "elif door == 'close':\n",
    "    print('No, you can not go!!!')"
   ]
  },
  {
   "cell_type": "code",
   "execution_count": 13,
   "metadata": {},
   "outputs": [
    {
     "name": "stdout",
     "output_type": "stream",
     "text": [
      "No, you can not go!!!\n"
     ]
    }
   ],
   "source": [
    "door = 'close'\n",
    "if door == 'open':\n",
    "    print ('Yes, you can go!!!')\n",
    "else: \n",
    "    print('No, you can not go!!!')\n",
    "# elif door == 'close':\n",
    " #   print('No, you can not go!!!')"
   ]
  },
  {
   "cell_type": "code",
   "execution_count": 15,
   "metadata": {},
   "outputs": [
    {
     "name": "stdout",
     "output_type": "stream",
     "text": [
      "Something wrong\n"
     ]
    }
   ],
   "source": [
    "door = 'awdawda'\n",
    "if door == 'open':\n",
    "    print ('Yes, you can go!!!')\n",
    "\n",
    "elif door == 'close':\n",
    "    print('No, you can not go!!!')\n",
    "else: \n",
    "    print('Something wrong')"
   ]
  },
  {
   "cell_type": "code",
   "execution_count": 16,
   "metadata": {},
   "outputs": [
    {
     "name": "stdout",
     "output_type": "stream",
     "text": [
      "Yes, you can go!!!\n"
     ]
    }
   ],
   "source": [
    "door = 'open'\n",
    "if door == 'open':\n",
    "    print ('Yes, you can go!!!')\n",
    "\n",
    "elif door == 'close':\n",
    "    print('No, you can not go!!!')\n",
    "else: \n",
    "    print('Something wrong')"
   ]
  },
  {
   "cell_type": "code",
   "execution_count": 17,
   "metadata": {},
   "outputs": [
    {
     "name": "stdout",
     "output_type": "stream",
     "text": [
      "what is your name? :said\n"
     ]
    }
   ],
   "source": [
    "name = input('what is your name? :')"
   ]
  },
  {
   "cell_type": "code",
   "execution_count": 18,
   "metadata": {},
   "outputs": [
    {
     "name": "stdout",
     "output_type": "stream",
     "text": [
      "said\n"
     ]
    }
   ],
   "source": [
    "print(name)"
   ]
  },
  {
   "cell_type": "code",
   "execution_count": 19,
   "metadata": {},
   "outputs": [
    {
     "name": "stdout",
     "output_type": "stream",
     "text": [
      "what is your name? :said\n",
      "Hello said\n"
     ]
    }
   ],
   "source": [
    "name = input('what is your name? :')\n",
    "print('Hello ' + name)\n"
   ]
  },
  {
   "cell_type": "code",
   "execution_count": 25,
   "metadata": {},
   "outputs": [
    {
     "name": "stdout",
     "output_type": "stream",
     "text": [
      "what is your name? :Said\n",
      "Salam Said\n",
      "Hello Said\n"
     ]
    }
   ],
   "source": [
    "name = input('what is your name? :')\n",
    "if name == 'Anna':\n",
    "    print('Privet ' + name)\n",
    "elif name == 'Said':\n",
    "    print('Salam ' + name)\n",
    "else: \n",
    "    print('Hello '+ name)\n",
    "print('Hello ' + name)\n"
   ]
  },
  {
   "cell_type": "code",
   "execution_count": 30,
   "metadata": {},
   "outputs": [
    {
     "name": "stdout",
     "output_type": "stream",
     "text": [
      "what is your name? :john\n",
      "Hello John\n",
      "Hello John\n"
     ]
    }
   ],
   "source": [
    "name = input('what is your name? :')\n",
    "name = name.capitalize()\n",
    "if name.capitalize() == 'Anna':\n",
    "    print('Privet ' + name)\n",
    "elif name == 'Said':\n",
    "    print('Salam ' + name)\n",
    "else: \n",
    "    print('Hello '+ name)\n",
    "print('Hello ' + name)\n"
   ]
  },
  {
   "cell_type": "code",
   "execution_count": 25,
   "metadata": {},
   "outputs": [
    {
     "name": "stdout",
     "output_type": "stream",
     "text": [
      "what is your name? :Said\n",
      "Salam Said\n",
      "Hello Said\n"
     ]
    }
   ],
   "source": [
    "name = input('what is your name? :')\n",
    "if name == 'Anna':\n",
    "    print('Privet ' + name)\n",
    "elif name == 'Said':\n",
    "    print('Salam ' + name)\n",
    "else: \n",
    "    print('Hello '+ name)\n",
    "print('Hello ' + name)\n"
   ]
  },
  {
   "cell_type": "code",
   "execution_count": 31,
   "metadata": {},
   "outputs": [
    {
     "name": "stdout",
     "output_type": "stream",
     "text": [
      "What is your name? :farkhod\n"
     ]
    }
   ],
   "source": [
    "black_list = ['Abdul', 'Farkhod', 'Florin']\n",
    "student = input('What is your name? :')\n",
    "if student in black_list:\n",
    "    print('Sorry you can not come in')"
   ]
  },
  {
   "cell_type": "code",
   "execution_count": 40,
   "metadata": {},
   "outputs": [
    {
     "name": "stdout",
     "output_type": "stream",
     "text": [
      "What is your name? :Abdul\n",
      "Sorry you can not come in\n"
     ]
    }
   ],
   "source": [
    "black_list = ['Abdul', 'Farkhod', 'Florin']\n",
    "student = input('What is your name? :')\n",
    "student = student.capitalize()\n",
    "\n",
    "if student in black_list:\n",
    "    print('Sorry you can not come in')"
   ]
  },
  {
   "cell_type": "code",
   "execution_count": 33,
   "metadata": {},
   "outputs": [
    {
     "name": "stdout",
     "output_type": "stream",
     "text": [
      "What is your name? :farkhod\n",
      "Sorry you can not come in\n"
     ]
    }
   ],
   "source": [
    "black_list = ['Abdul', 'Farkhod', 'Florin']\n",
    "student = input('What is your name? :')\n",
    "if student.capitalize() in black_list:\n",
    "    print('Sorry you can not come in')"
   ]
  },
  {
   "cell_type": "code",
   "execution_count": 37,
   "metadata": {},
   "outputs": [
    {
     "name": "stdout",
     "output_type": "stream",
     "text": [
      "What is your name? :florin\n"
     ]
    }
   ],
   "source": [
    "black_list = ['Abdul', 'said', 'Florin']\n",
    "student = input('What is your name? :')\n",
    "if student.lower() in black_list:\n",
    "    print('Sorry you can not come in')"
   ]
  },
  {
   "cell_type": "code",
   "execution_count": null,
   "metadata": {},
   "outputs": [],
   "source": [
    "black_list = ['Abdul', 'Farkhod', 'Florin']\n",
    "student = input('What is your name? :')\n",
    "if student in black_list:\n",
    "    print('Sorry you can not come in')"
   ]
  },
  {
   "cell_type": "code",
   "execution_count": 41,
   "metadata": {},
   "outputs": [
    {
     "name": "stdout",
     "output_type": "stream",
     "text": [
      "What is your name? :nurjan\n",
      "Hello come in\n"
     ]
    }
   ],
   "source": [
    "black_list = ['Abdul', 'Farkhod', 'Florin']\n",
    "student = input('What is your name? :')\n",
    "\n",
    "student = student.capitalize()\n",
    "\n",
    "if student in black_list:\n",
    "    print('Sorry you can not come in')\n",
    "else:\n",
    "    print('Hello come in')"
   ]
  },
  {
   "cell_type": "code",
   "execution_count": 46,
   "metadata": {},
   "outputs": [
    {
     "name": "stdout",
     "output_type": "stream",
     "text": [
      "What is your name? :said\n",
      "Said\n"
     ]
    }
   ],
   "source": [
    "name = input('What is your name? :').capitalize()\n",
    "print(name)\n"
   ]
  },
  {
   "cell_type": "code",
   "execution_count": 48,
   "metadata": {},
   "outputs": [
    {
     "name": "stdout",
     "output_type": "stream",
     "text": [
      "What is your name? :SAMIR\n",
      "samir\n"
     ]
    }
   ],
   "source": [
    "name = input('What is your name? :').capitalize()\n",
    "print(name.lower())"
   ]
  },
  {
   "cell_type": "code",
   "execution_count": 51,
   "metadata": {},
   "outputs": [
    {
     "name": "stdout",
     "output_type": "stream",
     "text": [
      "What is your name? :said\n",
      "What is your birthday <year>? :1990\n"
     ]
    }
   ],
   "source": [
    "name = input('What is your name? :').capitalize()\n",
    "year = input('What is your birthday <year>? :')"
   ]
  },
  {
   "cell_type": "code",
   "execution_count": 50,
   "metadata": {},
   "outputs": [
    {
     "data": {
      "text/plain": [
       "str"
      ]
     },
     "execution_count": 50,
     "metadata": {},
     "output_type": "execute_result"
    }
   ],
   "source": [
    "type(year)"
   ]
  },
  {
   "cell_type": "code",
   "execution_count": 52,
   "metadata": {},
   "outputs": [
    {
     "name": "stdout",
     "output_type": "stream",
     "text": [
      "What is your name? :samir\n",
      "What is your birthday <year>? :2000\n"
     ]
    }
   ],
   "source": [
    "name = input('What is your name? :').capitalize()\n",
    "year = int(input('What is your birthday <year>? :'))"
   ]
  },
  {
   "cell_type": "code",
   "execution_count": 53,
   "metadata": {},
   "outputs": [
    {
     "data": {
      "text/plain": [
       "int"
      ]
     },
     "execution_count": 53,
     "metadata": {},
     "output_type": "execute_result"
    }
   ],
   "source": [
    "type(year)"
   ]
  },
  {
   "cell_type": "code",
   "execution_count": 54,
   "metadata": {},
   "outputs": [
    {
     "name": "stdout",
     "output_type": "stream",
     "text": [
      "What is your name? :samir\n",
      "What is your birthday <year>? :2000\n",
      "Your name is :Samir, Year :2000\n"
     ]
    }
   ],
   "source": [
    "name = input('What is your name? :').capitalize()\n",
    "year = int(input('What is your birthday <year>? :'))\n",
    "print(f\"Your name is :{name}, Year :{year}\")"
   ]
  },
  {
   "cell_type": "code",
   "execution_count": 55,
   "metadata": {},
   "outputs": [
    {
     "data": {
      "text/plain": [
       "int"
      ]
     },
     "execution_count": 55,
     "metadata": {},
     "output_type": "execute_result"
    }
   ],
   "source": [
    "type(year)"
   ]
  },
  {
   "cell_type": "code",
   "execution_count": 59,
   "metadata": {},
   "outputs": [
    {
     "name": "stdout",
     "output_type": "stream",
     "text": [
      "What is your name? :said\n",
      "What is your birthday <year>? :2000\n",
      "Your name is :Said, Your age is :19\n"
     ]
    }
   ],
   "source": [
    "name = input('What is your name? :').capitalize()\n",
    "year = int(input('What is your birthday <year>? :'))\n",
    "now = 2019\n",
    "age = 2019 - year\n",
    "print(f\"Your name is :{name}, Your age is :{age}\")"
   ]
  },
  {
   "cell_type": "code",
   "execution_count": 60,
   "metadata": {},
   "outputs": [
    {
     "name": "stdout",
     "output_type": "stream",
     "text": [
      "Please come in\n"
     ]
    }
   ],
   "source": [
    "door = True\n",
    "if door:\n",
    "    print('Please come in')"
   ]
  },
  {
   "cell_type": "code",
   "execution_count": 61,
   "metadata": {},
   "outputs": [
    {
     "name": "stdout",
     "output_type": "stream",
     "text": [
      "Door is open\n"
     ]
    }
   ],
   "source": [
    "door = True\n",
    "if door:\n",
    "    print('Door is open')\n",
    "else:\n",
    "    print('Door is close!!')"
   ]
  },
  {
   "cell_type": "code",
   "execution_count": 62,
   "metadata": {},
   "outputs": [
    {
     "name": "stdout",
     "output_type": "stream",
     "text": [
      "Door is close!!\n"
     ]
    }
   ],
   "source": [
    "door = False\n",
    "if door:\n",
    "    print('Door is open')\n",
    "else:\n",
    "    print('Door is close!!')"
   ]
  },
  {
   "cell_type": "code",
   "execution_count": 64,
   "metadata": {},
   "outputs": [
    {
     "name": "stdout",
     "output_type": "stream",
     "text": [
      "{'first_name': 'Abdul', 'last_name': 'sharif', 'username': 'asharif', 'password': 'redhat', 'status': False, 'classes': ['Python', 'Terraform', 'Ansible']}\n"
     ]
    }
   ],
   "source": [
    "student = {'first_name': 'Abdul',\n",
    "           'last_name': 'sharif',\n",
    "           'username': 'asharif',\n",
    "           'password': 'redhat', \n",
    "           'status': False,\n",
    "           'classes': ['Python', 'Terraform', 'Ansible']\n",
    "          }\n",
    "print(student)"
   ]
  },
  {
   "cell_type": "code",
   "execution_count": 65,
   "metadata": {},
   "outputs": [
    {
     "name": "stdout",
     "output_type": "stream",
     "text": [
      "['Python', 'Terraform', 'Ansible']\n"
     ]
    }
   ],
   "source": [
    "student = {'first_name': 'Abdul',\n",
    "           'last_name': 'sharif',\n",
    "           'username': 'asharif',\n",
    "           'password': 'redhat', \n",
    "           'status': False,\n",
    "           'classes': ['Python', 'Terraform', 'Ansible']\n",
    "          }\n",
    "print(student['classes'])"
   ]
  },
  {
   "cell_type": "code",
   "execution_count": 68,
   "metadata": {},
   "outputs": [
    {
     "name": "stdout",
     "output_type": "stream",
     "text": [
      "###### Information about Abdul sharif ######\n"
     ]
    }
   ],
   "source": [
    "student = {'first_name': 'Abdul',\n",
    "           'last_name': 'sharif',\n",
    "           'username': 'asharif',\n",
    "           'password': 'redhat', \n",
    "           'status': False,\n",
    "           'classes': ['Python', 'Terraform', 'Ansible']\n",
    "          }\n",
    "print(f'###### Information about {student[\"first_name\"]} {student[\"last_name\"]} ######')"
   ]
  },
  {
   "cell_type": "code",
   "execution_count": 72,
   "metadata": {},
   "outputs": [
    {
     "name": "stdout",
     "output_type": "stream",
     "text": [
      "############################################\n",
      "###### Information about Abdul sharif ######\n",
      "############################################\n",
      "##username:asharif\n",
      "## Full Name: Abdul sharif\n"
     ]
    }
   ],
   "source": [
    "student = {'first_name': 'Abdul',\n",
    "           'last_name': 'sharif',\n",
    "           'username': 'asharif',\n",
    "           'password': 'redhat', \n",
    "           'status': False,\n",
    "           'classes': ['Python', 'Terraform', 'Ansible']\n",
    "          }\n",
    "\n",
    "print('############################################')\n",
    "print(f'###### Information about {student[\"first_name\"]} {student[\"last_name\"]} ######') \n",
    "print('############################################')\n",
    "print(f'##username:{student[\"username\"]}')\n",
    "print(f'## Full Name: {student[\"first_name\"]} {student[\"last_name\"]}')   \n",
    "if student['status']:\n",
    "      print(f'## User can not login')\n"
   ]
  },
  {
   "cell_type": "code",
   "execution_count": 73,
   "metadata": {},
   "outputs": [
    {
     "name": "stdout",
     "output_type": "stream",
     "text": [
      "############################################\n",
      "###### Information about Abdul sharif ######\n",
      "############################################\n",
      "##username:asharif\n",
      "## Full Name: Abdul sharif\n",
      "## User can not login\n"
     ]
    }
   ],
   "source": [
    "student = {'first_name': 'Abdul',\n",
    "           'last_name': 'sharif',\n",
    "           'username': 'asharif',\n",
    "           'password': 'redhat', \n",
    "           'status': False,\n",
    "           'classes': ['Python', 'Terraform', 'Ansible']\n",
    "          }\n",
    "\n",
    "print('############################################')\n",
    "print(f'###### Information about {student[\"first_name\"]} {student[\"last_name\"]} ######') \n",
    "print('############################################')\n",
    "print(f'##username:{student[\"username\"]}')\n",
    "print(f'## Full Name: {student[\"first_name\"]} {student[\"last_name\"]}')   \n",
    "if student['status']:\n",
    "      print('## User can not login')\n",
    "else:\n",
    "      print('## User can not login')"
   ]
  },
  {
   "cell_type": "code",
   "execution_count": 76,
   "metadata": {},
   "outputs": [
    {
     "name": "stdout",
     "output_type": "stream",
     "text": [
      "############################################\n",
      "###### Information about Abdul sharif ######\n",
      "############################################\n",
      "##username:asharif\n",
      "## Full Name: Abdul sharif\n",
      "## User can not login\n",
      "## User is attends Python class\n"
     ]
    }
   ],
   "source": [
    "student = {'first_name': 'Abdul',\n",
    "           'last_name': 'sharif',\n",
    "           'username': 'asharif',\n",
    "           'password': 'redhat', \n",
    "           'status': False,\n",
    "           'classes': ['Python', 'Terraform', 'Ansible']\n",
    "          }\n",
    "\n",
    "print('############################################')\n",
    "print(f'###### Information about {student[\"first_name\"]} {student[\"last_name\"]} ######') \n",
    "print('############################################')\n",
    "print(f'##username:{student[\"username\"]}')\n",
    "print(f'## Full Name: {student[\"first_name\"]} {student[\"last_name\"]}')   \n",
    "if student['status']:\n",
    "      print('## User can not login')\n",
    "else:\n",
    "      print('## User can not login')\n",
    "      \n",
    "if 'Python' in student['classes']:\n",
    "      print(f'## User is attends Python class')"
   ]
  },
  {
   "cell_type": "code",
   "execution_count": 77,
   "metadata": {},
   "outputs": [
    {
     "name": "stdout",
     "output_type": "stream",
     "text": [
      "############################################\n",
      "###### Information about Abdul sharif ######\n",
      "############################################\n",
      "##username:asharif\n",
      "## Full Name: Abdul sharif\n",
      "## User can not login\n",
      "## User is attends Python class\n",
      "## User is attends Terraform class\n",
      "## User is attends Ansible class\n"
     ]
    }
   ],
   "source": [
    "student = {'first_name': 'Abdul',\n",
    "           'last_name': 'sharif',\n",
    "           'username': 'asharif',\n",
    "           'password': 'redhat', \n",
    "           'status': False,\n",
    "           'classes': ['Python', 'Terraform', 'Ansible']\n",
    "          }\n",
    "\n",
    "print('############################################')\n",
    "print(f'###### Information about {student[\"first_name\"]} {student[\"last_name\"]} ######') \n",
    "print('############################################')\n",
    "print(f'##username:{student[\"username\"]}')\n",
    "print(f'## Full Name: {student[\"first_name\"]} {student[\"last_name\"]}')   \n",
    "if student['status']:\n",
    "      print('## User can not login')\n",
    "else:\n",
    "      print('## User can not login')\n",
    "      \n",
    "if 'Python' in student['classes']:\n",
    "      print(f'## User is attends Python class')\n",
    "      \n",
    "if 'Terraform' in  student['classes']:\n",
    "     print(f'## User is attends Terraform class')\n",
    "      \n",
    "if 'Ansible' in  student['classes']:\n",
    "    print(f'## User is attends Ansible class')"
   ]
  },
  {
   "cell_type": "code",
   "execution_count": null,
   "metadata": {},
   "outputs": [],
   "source": []
  }
 ],
 "metadata": {
  "kernelspec": {
   "display_name": "Python 3",
   "language": "python",
   "name": "python3"
  },
  "language_info": {
   "codemirror_mode": {
    "name": "ipython",
    "version": 3
   },
   "file_extension": ".py",
   "mimetype": "text/x-python",
   "name": "python",
   "nbconvert_exporter": "python",
   "pygments_lexer": "ipython3",
   "version": "3.6.5"
  }
 },
 "nbformat": 4,
 "nbformat_minor": 2
}
