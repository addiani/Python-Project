{
 "cells": [
  {
   "cell_type": "code",
   "execution_count": 1,
   "metadata": {},
   "outputs": [],
   "source": [
    "github_users = []"
   ]
  },
  {
   "cell_type": "code",
   "execution_count": 9,
   "metadata": {},
   "outputs": [
    {
     "name": "stdout",
     "output_type": "stream",
     "text": [
      "{'username': 'emma-11', 'firstname': 'Emma', 'lastname': 'Lopes', 'password': 'redhat'}\n"
     ]
    }
   ],
   "source": [
    "user_emma = {\n",
    " 'username': 'emma-11', \n",
    "    'firstname': 'Emma', \n",
    "    'lastname': 'Lopes', \n",
    "    'password': 'redhat'    \n",
    "}\n",
    "print(user_emma)"
   ]
  },
  {
   "cell_type": "code",
   "execution_count": 12,
   "metadata": {},
   "outputs": [
    {
     "name": "stdout",
     "output_type": "stream",
     "text": [
      "{'username': 'frank', 'firstname': 'Frank', 'lastname': 'Smith', 'password': 'frank2019'}\n"
     ]
    }
   ],
   "source": [
    "user_smith = {\n",
    "    'username': 'frank', 'firstname': 'Frank', 'lastname': 'Smith', 'password': 'frank2019'\n",
    "}\n",
    "print(user_smith)"
   ]
  },
  {
   "cell_type": "code",
   "execution_count": 14,
   "metadata": {
    "scrolled": true
   },
   "outputs": [
    {
     "name": "stdout",
     "output_type": "stream",
     "text": [
      "[{'username': 'emma-11', 'firstname': 'Emma', 'lastname': 'Lopes', 'password': 'redhat'}, {'username': 'frank', 'firstname': 'Frank', 'lastname': 'Smith', 'password': 'frank2019'}, {'username': 'emma-11', 'firstname': 'Emma', 'lastname': 'Lopes', 'password': 'redhat'}, {'username': 'frank', 'firstname': 'Frank', 'lastname': 'Smith', 'password': 'frank2019'}]\n"
     ]
    }
   ],
   "source": [
    "github_users.append(user_emma)\n",
    "github_users.append(user_smith)\n",
    "print(github_users)"
   ]
  },
  {
   "cell_type": "code",
   "execution_count": 15,
   "metadata": {},
   "outputs": [
    {
     "name": "stdout",
     "output_type": "stream",
     "text": [
      "emma-11\n"
     ]
    }
   ],
   "source": [
    "print(github_users[0]['username'])"
   ]
  },
  {
   "cell_type": "code",
   "execution_count": 19,
   "metadata": {},
   "outputs": [
    {
     "name": "stdout",
     "output_type": "stream",
     "text": [
      "False\n"
     ]
    }
   ],
   "source": [
    "print(github_users[1]['firstname'] is 'Smith')"
   ]
  }
 ],
 "metadata": {
  "kernelspec": {
   "display_name": "Python 3",
   "language": "python",
   "name": "python3"
  },
  "language_info": {
   "codemirror_mode": {
    "name": "ipython",
    "version": 3
   },
   "file_extension": ".py",
   "mimetype": "text/x-python",
   "name": "python",
   "nbconvert_exporter": "python",
   "pygments_lexer": "ipython3",
   "version": "3.6.5"
  }
 },
 "nbformat": 4,
 "nbformat_minor": 2
}
