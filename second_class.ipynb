{
 "cells": [
  {
   "cell_type": "code",
   "execution_count": 1,
   "metadata": {},
   "outputs": [
    {
     "name": "stdout",
     "output_type": "stream",
     "text": [
      "hello world\n"
     ]
    }
   ],
   "source": [
    "print('hello world')\n"
   ]
  },
  {
   "cell_type": "code",
   "execution_count": 2,
   "metadata": {},
   "outputs": [
    {
     "name": "stdout",
     "output_type": "stream",
     "text": [
      "Help on built-in function dir in module builtins:\n",
      "\n",
      "dir(...)\n",
      "    dir([object]) -> list of strings\n",
      "    \n",
      "    If called without an argument, return the names in the current scope.\n",
      "    Else, return an alphabetized list of names comprising (some of) the attributes\n",
      "    of the given object, and of attributes reachable from it.\n",
      "    If the object supplies a method named __dir__, it will be used; otherwise\n",
      "    the default dir() logic is used and returns:\n",
      "      for a module object: the module's attributes.\n",
      "      for a class object:  its attributes, and recursively the attributes\n",
      "        of its bases.\n",
      "      for any other object: its attributes, its class's attributes, and\n",
      "        recursively the attributes of its class's base classes.\n",
      "\n"
     ]
    }
   ],
   "source": [
    "var = 'This is  string'\n",
    "help(dir)\n"
   ]
  },
  {
   "cell_type": "code",
   "execution_count": 6,
   "metadata": {},
   "outputs": [
    {
     "data": {
      "text/plain": [
       "False"
      ]
     },
     "execution_count": 6,
     "metadata": {},
     "output_type": "execute_result"
    }
   ],
   "source": [
    "var = True\n",
    "var is False"
   ]
  },
  {
   "cell_type": "code",
   "execution_count": 20,
   "metadata": {},
   "outputs": [
    {
     "name": "stdout",
     "output_type": "stream",
     "text": [
      "2\n"
     ]
    }
   ],
   "source": [
    "mynum = 1986\n",
    "data = range(1, 10)\n",
    "print(data[1])"
   ]
  },
  {
   "cell_type": "code",
   "execution_count": 29,
   "metadata": {},
   "outputs": [
    {
     "name": "stdout",
     "output_type": "stream",
     "text": [
      "6\n"
     ]
    }
   ],
   "source": [
    "mynum = '1996'\n",
    "print(mynum[3])"
   ]
  },
  {
   "cell_type": "code",
   "execution_count": 36,
   "metadata": {},
   "outputs": [
    {
     "name": "stdout",
     "output_type": "stream",
     "text": [
      "['sabil']\n"
     ]
    }
   ],
   "source": [
    "# bool str int float\n",
    "users = ['sabil']\n",
    "print(users)\n"
   ]
  },
  {
   "cell_type": "code",
   "execution_count": 43,
   "metadata": {},
   "outputs": [
    {
     "name": "stdout",
     "output_type": "stream",
     "text": [
      "['sabil', 'Farrukh']\n"
     ]
    }
   ],
   "source": [
    "users = ['sabil']\n",
    "users.append('Farrukh')\n",
    "users.append(True)\n",
    "users.remove(True)\n",
    "\n",
    "print(users)"
   ]
  },
  {
   "cell_type": "code",
   "execution_count": 48,
   "metadata": {},
   "outputs": [],
   "source": [
    "users = ['sabil']\n",
    "users.append('Farrukh')\n",
    "users.append('Nadira')\n",
    "users.append(True)\n",
    "users.remove(True)"
   ]
  },
  {
   "cell_type": "code",
   "execution_count": 55,
   "metadata": {},
   "outputs": [
    {
     "name": "stdout",
     "output_type": "stream",
     "text": [
      "['sabil', 'Farrukh', 'Nadira', 'nurjan', 'daud']\n"
     ]
    }
   ],
   "source": [
    "users = ['sabil']\n",
    "users.append('Farrukh')\n",
    "users.append('Nadira')\n",
    "users.append('nurjan')\n",
    "users.append('daud')\n",
    "users.append(True)\n",
    "users.remove(True)\n",
    "print(users)"
   ]
  },
  {
   "cell_type": "code",
   "execution_count": 59,
   "metadata": {},
   "outputs": [
    {
     "name": "stdout",
     "output_type": "stream",
     "text": [
      "['sabil', 'Farrukh', 'Nadira', 'Nadira']\n",
      "2\n"
     ]
    }
   ],
   "source": [
    "users = ['sabil']\n",
    "users.append('Farrukh')\n",
    "users.append('Nadira')\n",
    "users.append('Nadira')\n",
    "print(users)\n",
    "print(users.count('Nadira'))"
   ]
  },
  {
   "cell_type": "code",
   "execution_count": 67,
   "metadata": {},
   "outputs": [
    {
     "name": "stdout",
     "output_type": "stream",
     "text": [
      "['sabil', 'Farrukh', 'Nadira', 'Nadira', 'Nadira', 'joanna']\n",
      "['sabil', 'Farrukh', 'Nadira', 'Nadira', 'Nadira', 'joanna']\n",
      "2\n",
      "['sabil', 'Nadira', 'Nadira', 'Nadira', 'joanna']\n"
     ]
    }
   ],
   "source": [
    "users = ['sabil']\n",
    "users.append('Farrukh')\n",
    "users.append('Nadira')\n",
    "users.append('Nadira')\n",
    "users.append('Nadira')\n",
    "users.append('joanna')\n",
    "print(users)\n",
    "# print (users.count('Nadira'))\n",
    "# users.remove('Nadira')\n",
    "print(users)\n",
    "\n",
    "#print(users)\n",
    "#print(users.count('Nadira'))\n",
    "print(users.index('Nadira'))\n",
    "foundIndex = users.index('Farrukh')\n",
    "users.pop(foundIndex)\n",
    "print(users)"
   ]
  },
  {
   "cell_type": "code",
   "execution_count": 69,
   "metadata": {},
   "outputs": [
    {
     "name": "stdout",
     "output_type": "stream",
     "text": [
      "['sabil', 'Farrukh', 'Nadira', 'Nadira', 'Nadira', 'joanna']\n",
      "['sabil', 'Farrukh', 'Nadira', 'Nadira', 'Nadira', 'joanna']\n",
      "2\n",
      "['sabil', 'user', 'Nadira', 'Nadira', 'Nadira', 'joanna']\n"
     ]
    }
   ],
   "source": [
    "users = ['sabil']\n",
    "users.append('Farrukh')\n",
    "users.append('Nadira')\n",
    "users.append('Nadira')\n",
    "users.append('Nadira')\n",
    "users.append('joanna')\n",
    "print(users)\n",
    "# print (users.count('Nadira'))\n",
    "# users.remove('Nadira')\n",
    "print(users)\n",
    "\n",
    "#print(users)\n",
    "#print(users.count('Nadira'))\n",
    "print(users.index('Nadira'))\n",
    "foundIndex = users.index('Farrukh')\n",
    "users.pop(foundIndex)\n",
    "users.insert(1, 'user')\n",
    "\n",
    "# dir(users)\n",
    "print(users)"
   ]
  },
  {
   "cell_type": "code",
   "execution_count": 80,
   "metadata": {},
   "outputs": [
    {
     "name": "stdout",
     "output_type": "stream",
     "text": [
      "{'type': 'Fruit', 'color': 'orange', 'count': 1}\n"
     ]
    }
   ],
   "source": [
    "# dictionary\n",
    "mydict = { 'type' : \"Fruit\", \"color\" : \"orange\"}\n",
    "mydict['count'] = 1\n",
    "mylist = mydict.values()\n",
    "print(mydict)\n",
    "          "
   ]
  },
  {
   "cell_type": "code",
   "execution_count": 83,
   "metadata": {},
   "outputs": [
    {
     "name": "stdout",
     "output_type": "stream",
     "text": [
      "{'type': 'Fruit', 'color': 'orange', 'count': 1}\n",
      "dict_values(['Fruit', 'orange', 1])\n"
     ]
    }
   ],
   "source": [
    "# dictionary\n",
    "mydict = { 'type' : \"Fruit\", \"color\" : \"orange\"}\n",
    "mydict['count'] = 1\n",
    "mydict['type'] is 'Fruit'\n",
    "print(mydict)\n",
    "mylist = mydict.values()\n",
    "print(mylist)\n",
    "          "
   ]
  },
  {
   "cell_type": "code",
   "execution_count": 84,
   "metadata": {},
   "outputs": [
    {
     "data": {
      "text/plain": [
       "True"
      ]
     },
     "execution_count": 84,
     "metadata": {},
     "output_type": "execute_result"
    }
   ],
   "source": [
    "mydict = { 'type' : \"Fruit\", \"color\" : \"orange\"}\n",
    "mydict['count'] = 1\n",
    "mydict['type'] is 'Fruit'"
   ]
  },
  {
   "cell_type": "code",
   "execution_count": 93,
   "metadata": {},
   "outputs": [
    {
     "name": "stdout",
     "output_type": "stream",
     "text": [
      "orange Fruit\n"
     ]
    }
   ],
   "source": [
    "mydict = { 'type' : \"Fruit\", \"color\" : \"orange\"}\n",
    "mydict['count'] = 1\n",
    "print(mydict['color']+ ' ' + mydict['type'])"
   ]
  },
  {
   "cell_type": "code",
   "execution_count": 97,
   "metadata": {},
   "outputs": [
    {
     "name": "stdout",
     "output_type": "stream",
     "text": [
      "{'type': 'Fruit', 'color': 'Red', 'count': 2}\n"
     ]
    }
   ],
   "source": [
    "mydict = { 'type' : \"Fruit\", \"color\" : \"orange\"}\n",
    "mydict['color'] = 'Red'\n",
    "mydict['count'] = 2\n",
    "print(mydict)"
   ]
  },
  {
   "cell_type": "code",
   "execution_count": 101,
   "metadata": {},
   "outputs": [
    {
     "name": "stdout",
     "output_type": "stream",
     "text": [
      "dict_keys(['type', 'color', 'count'])\n",
      "dict_values(['Fruit', 'Red', 2])\n"
     ]
    }
   ],
   "source": [
    "mydict = { 'type' : \"Fruit\", \"color\" : \"orange\"}\n",
    "mydict['color'] = 'Red'\n",
    "mydict['count'] = 2\n",
    "print(mydict.keys())\n",
    "print(mydict.values())\n",
    "#dir(mydict)"
   ]
  },
  {
   "cell_type": "code",
   "execution_count": 110,
   "metadata": {},
   "outputs": [
    {
     "name": "stdout",
     "output_type": "stream",
     "text": [
      "{'username': 'saddiani', 'firstname': 'said', 'lastname': 'addiani'}\n",
      "mydata\n"
     ]
    }
   ],
   "source": [
    "mydict = { 'type' : \"Fruit\", \"color\" : \"orange\"}\n",
    "mydict['color'] = 'Red'\n",
    "mydict['count'] = 2\n",
    "\n",
    "\n",
    "\n",
    "\n",
    "# print(mydict.keys())\n",
    "# print(mydict.values())\n",
    "\n",
    "user = dict(username='saddiani', firstname='said', lastname='addiani')\n",
    "# mylist = list(['data1', 'data2', 'data3'])\n",
    "print(user)\n",
    "# print(mylist)\n",
    "\n",
    "my_second_dict = dict(mydata='example')\n",
    "print('mydata')"
   ]
  }
 ],
 "metadata": {
  "kernelspec": {
   "display_name": "Python 3",
   "language": "python",
   "name": "python3"
  },
  "language_info": {
   "codemirror_mode": {
    "name": "ipython",
    "version": 3
   },
   "file_extension": ".py",
   "mimetype": "text/x-python",
   "name": "python",
   "nbconvert_exporter": "python",
   "pygments_lexer": "ipython3",
   "version": "3.6.5"
  }
 },
 "nbformat": 4,
 "nbformat_minor": 2
}
