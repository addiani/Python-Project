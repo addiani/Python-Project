{
 "cells": [
  {
   "cell_type": "code",
   "execution_count": null,
   "metadata": {},
   "outputs": [],
   "source": [
    "users = ['Abdul', 'Nadira', 'Jennah']\n",
    "# for user in users:\n",
    "#    print(user)\n",
    "for item in range(0, 3):\n",
    "    print('Hello')"
   ]
  },
  {
   "cell_type": "code",
   "execution_count": null,
   "metadata": {},
   "outputs": [],
   "source": [
    "users = ['Abdul', 'Nadira', 'Jennah']\n",
    "# for user in users:\n",
    "#    print(user)\n",
    "for number in range(0, 3):\n",
    "    print(number, 'Hello')"
   ]
  },
  {
   "cell_type": "code",
   "execution_count": null,
   "metadata": {},
   "outputs": [],
   "source": [
    "data = [\n",
    "    {\n",
    "    \"avatar\": \"https://s3.amazonaws.com/uifaces/faces/twitter/marcoramires/128.jpg\",\n",
    "    \"first_name\": \"Eve\",\n",
    "    \"id\": 4,\n",
    "    \"last_name\": \"Holt\"\n",
    "    },\n",
    "    {\n",
    "    \"avatar\": \"https://s3.amazonaws.com/uifaces/faces/twitter/stephenmoon/128.jpg\",\n",
    "    \"first_name\": \"Charles\",\n",
    "    \"id\": 5,\n",
    "    \"last_name\": \"Morris\"\n",
    "    },\n",
    "    {\n",
    "    \"avatar\": \"https://s3.amazonaws.com/uifaces/faces/twitter/bigmancho/128.jpg\",\n",
    "    \"first_name\": \"Tracey\",\n",
    "    \"id\": 6,\n",
    "    \"last_name\": \"Ramos\"\n",
    "    }\n",
    "]\n",
    "\n",
    "for user in data:\n",
    "    print(user)"
   ]
  },
  {
   "cell_type": "code",
   "execution_count": null,
   "metadata": {},
   "outputs": [],
   "source": [
    "data = [\n",
    "    {\n",
    "    \"avatar\": \"https://s3.amazonaws.com/uifaces/faces/twitter/marcoramires/128.jpg\",\n",
    "    \"first_name\": \"Eve\",\n",
    "    \"id\": 4,\n",
    "    \"last_name\": \"Holt\"\n",
    "    },\n",
    "    {\n",
    "    \"avatar\": \"https://s3.amazonaws.com/uifaces/faces/twitter/stephenmoon/128.jpg\",\n",
    "    \"first_name\": \"Charles\",\n",
    "    \"id\": 5,\n",
    "    \"last_name\": \"Morris\"\n",
    "    },\n",
    "    {\n",
    "    \"avatar\": \"https://s3.amazonaws.com/uifaces/faces/twitter/bigmancho/128.jpg\",\n",
    "    \"first_name\": \"Tracey\",\n",
    "    \"id\": 6,\n",
    "    \"last_name\": \"Ramos\"\n",
    "    }\n",
    "]\n",
    "\n",
    "for user in data:\n",
    "    if user['first_name'] == 'Charles':\n",
    "        print(user)"
   ]
  },
  {
   "cell_type": "code",
   "execution_count": null,
   "metadata": {},
   "outputs": [],
   "source": [
    "data = [\n",
    "    {\n",
    "    \"avatar\": \"https://s3.amazonaws.com/uifaces/faces/twitter/marcoramires/128.jpg\",\n",
    "    \"first_name\": \"Eve\",\n",
    "    \"id\": 4,\n",
    "    \"last_name\": \"Holt\"\n",
    "    },\n",
    "    {\n",
    "    \"avatar\": \"https://s3.amazonaws.com/uifaces/faces/twitter/stephenmoon/128.jpg\",\n",
    "    \"first_name\": \"Charles\",\n",
    "    \"id\": 5,\n",
    "    \"last_name\": \"Morris\"\n",
    "    },\n",
    "    {\n",
    "    \"avatar\": \"https://s3.amazonaws.com/uifaces/faces/twitter/bigmancho/128.jpg\",\n",
    "    \"first_name\": \"Tracey\",\n",
    "    \"id\": 6,\n",
    "    \"last_name\": \"Ramos\"\n",
    "    }\n",
    "]\n",
    "\n",
    "# for user in data:\n",
    "#   if user['first_name'] == 'Charles':\n",
    "#      print(user)\n",
    "\n",
    "while True:\n",
    "    print('Hello')\n",
    "    break"
   ]
  },
  {
   "cell_type": "code",
   "execution_count": null,
   "metadata": {},
   "outputs": [],
   "source": [
    "my_string = 'This is my string'\n",
    "print(my_string)\n",
    "\n",
    "#for item in my_string:\n",
    "#    print(item)"
   ]
  },
  {
   "cell_type": "code",
   "execution_count": null,
   "metadata": {},
   "outputs": [],
   "source": [
    "my_string = 'This is my string'\n",
    "print(my_string)\n",
    "\n",
    "for item in my_string:\n",
    "    print(item)"
   ]
  },
  {
   "cell_type": "code",
   "execution_count": null,
   "metadata": {},
   "outputs": [],
   "source": [
    "my_string = 'This is my string'\n",
    "print(my_string)\n",
    "\n",
    "for item in my_string.split(' '):\n",
    "    if 'This' == item:\n",
    "        print('Yes it is')\n",
    "\n",
    "\n",
    "if 'This' in my_string:\n",
    "    print('Yes it is')\n",
    "    "
   ]
  },
  {
   "cell_type": "code",
   "execution_count": null,
   "metadata": {},
   "outputs": [],
   "source": [
    "import os\n",
    "users = ['Anna', 'Jenna', 'Abdul', 'Alibek']\n",
    "for user in users:\n",
    "    print(user)\n",
    "    os.system(f'useradd {user}')\n",
    "!cat /etc/passwd"
   ]
  },
  {
   "cell_type": "code",
   "execution_count": null,
   "metadata": {},
   "outputs": [],
   "source": [
    "import os\n",
    "users = ['Anna', 'Jenna', 'Abdul', 'Alibek']\n",
    "for user in users:\n",
    "    print(user)\n",
    "    os.system(f'useradd {user}')\n",
    "!cat /etc/passwd"
   ]
  },
  {
   "cell_type": "code",
   "execution_count": null,
   "metadata": {},
   "outputs": [],
   "source": [
    "import os\n",
    "users = ['Anna', 'Jenna', 'Abdul', 'Alibek']\n",
    "for user in users:\n",
    "    print(user)\n",
    "    os.system(f'mkdir /{user}')\n",
    "!ls /"
   ]
  },
  {
   "cell_type": "code",
   "execution_count": null,
   "metadata": {},
   "outputs": [],
   "source": [
    "import os\n",
    "users = ['Anna', 'Jenna', 'Abdul', 'Alibek']\n",
    "for user in users:\n",
    "    print(user)\n",
    "    os.system(f'rm -rf /{user}')\n",
    "!ls /"
   ]
  },
  {
   "cell_type": "code",
   "execution_count": null,
   "metadata": {},
   "outputs": [],
   "source": [
    "!ls /"
   ]
  },
  {
   "cell_type": "code",
   "execution_count": null,
   "metadata": {},
   "outputs": [],
   "source": [
    "import os\n",
    "users = ['Anna', 'Zhanna', 'Abdul', 'Alibek']\n",
    "my_pub_key = 'ssh-rsa AAAAB3NzaC1yc2EAAAADAQABAAABAQDHThalyM3uM5TWKttnQUL3eRfEOK4TnFkuHlIL7UXNn34PwnPYULJukewmzk4IE+PNl/flS+PC6SJyQ3zcYUufDRZihvOvkvuTEHCNoN5fkKPASCRiwIyXZoYKGxFG6r0r9bsDtleuVL94Li9fhi5QOakUHwC74+GxoFKYBXvybdDIuCV1F2PQ38wkdDUTCoRxX1P8yTzSeN9VSIROxYrR7DdQw5dd1sVfOJgO0QckFSXoBIv09f66zBQE9D6AbQwi63EPfYInMTxLgHagraRROnYx0IezwQUrd2X/OQEpqGu7/rAIiqru0V4+JKDoPD0Ydl1c0OzTJELY8ZxIX1zh fsadykov@Fs-MacBook-Pro.local'\n",
    "for user in users:\n",
    "    print(user)\n",
    "    os.system(f'useradd {user}')\n",
    "    os.system(f'mkdir  /home/{user}/.ssh')\n",
    "    os.system(f'echo {my_pub_key}  >>  /home/{user}/.ssh/authorized_keys')"
   ]
  },
  {
   "cell_type": "code",
   "execution_count": null,
   "metadata": {},
   "outputs": [],
   "source": [
    "for user in data:\n",
    "    if 'Farkhod' == user ['first_name']:\n",
    "        print('User found')\n",
    "else:\n",
    "    print('User can not found')\n",
    "        "
   ]
  },
  {
   "cell_type": "code",
   "execution_count": null,
   "metadata": {},
   "outputs": [],
   "source": [
    "student = {'username': 'sabil',\n",
    "          'password': 'redhat',\n",
    "          'classes': ['Python', 'Jenkins', 'Ansible']}\n",
    "print('########################################################')\n",
    "print(f'## {student[\"username\"]}')\n",
    "for item in student['classes']:\n",
    "      print(item)"
   ]
  },
  {
   "cell_type": "code",
   "execution_count": null,
   "metadata": {},
   "outputs": [],
   "source": [
    "dataBase = []\n",
    "while True:\n",
    "    studentObject = {}\n",
    "    studentObject['full_name'] = input('Please enter Full_name :')\n",
    "    studentObject['username']  = input('Please enter username :')\n",
    "    studentObject['password']  = input('Please enter password :')\n",
    "    dataBase.append(studentObject)\n",
    "    print('User has been created!')\n",
    "    answer = input ('Do you want to stop it yes/no:')\n",
    "    if answer == 'yes':\n",
    "        print('Bye :) ')\n",
    "        break\n",
    "    \n",
    "    \n",
    "    "
   ]
  },
  {
   "cell_type": "code",
   "execution_count": null,
   "metadata": {},
   "outputs": [],
   "source": [
    "dataBase = []\n",
    "import time\n",
    "yesAnswer = ['YES', 'Yes', 'y', 'Y', 'YeS', 'yes']\n",
    "while True:\n",
    "    studentObject = {}\n",
    "    studentObject['full_name'] = input('Please enter Full_name :').capitalize()\n",
    "    studentObject['username']  = input('Please enter username :').lower()\n",
    "    studentObject['password']  = input('Please enter password :')\n",
    "    time.sleep(2)\n",
    "    dataBase.append(studentObject)\n",
    "    print('User has been created!')\n",
    "    answer = input ('Do you want to stop it yes/no:')\n",
    "    if answer == 'yes':\n",
    "        print('Bye :) ')\n",
    "        break\n",
    "    \n",
    "    \n",
    "    "
   ]
  },
  {
   "cell_type": "code",
   "execution_count": 1,
   "metadata": {},
   "outputs": [
    {
     "name": "stdout",
     "output_type": "stream",
     "text": [
      "Please enter Full_name :saiD ADDIANI\n",
      "Please enter username :SAbil\n",
      "Please enter password :redhat\n",
      "User has been created!\n",
      "Do you want to stop it yes/no:Y\n",
      "Bye :) \n"
     ]
    }
   ],
   "source": [
    "dataBase = []\n",
    "import time\n",
    "yesAnswer = ['YES', 'Yes', 'y', 'Y', 'YeS', 'yes']\n",
    "while True:\n",
    "    studentObject = {}\n",
    "    studentObject['full_name'] = input('Please enter Full_name :').capitalize()\n",
    "    studentObject['username']  = input('Please enter username :').lower()\n",
    "    studentObject['password']  = input('Please enter password :')\n",
    "    time.sleep(2)\n",
    "    dataBase.append(studentObject)\n",
    "    print('User has been created!')\n",
    "    answer = input ('Do you want to stop it yes/no:')\n",
    "    if answer in yesAnswer:\n",
    "        print('Bye :) ')\n",
    "        break\n",
    "    \n",
    "    \n",
    "    "
   ]
  },
  {
   "cell_type": "code",
   "execution_count": 2,
   "metadata": {},
   "outputs": [
    {
     "name": "stdout",
     "output_type": "stream",
     "text": [
      "[{'full_name': 'Said addiani', 'username': 'sabil', 'password': 'redhat'}]\n"
     ]
    }
   ],
   "source": [
    "print(dataBase)"
   ]
  },
  {
   "cell_type": "code",
   "execution_count": null,
   "metadata": {},
   "outputs": [],
   "source": []
  }
 ],
 "metadata": {
  "kernelspec": {
   "display_name": "Python 3",
   "language": "python",
   "name": "python3"
  },
  "language_info": {
   "codemirror_mode": {
    "name": "ipython",
    "version": 3
   },
   "file_extension": ".py",
   "mimetype": "text/x-python",
   "name": "python",
   "nbconvert_exporter": "python",
   "pygments_lexer": "ipython3",
   "version": "3.6.5"
  }
 },
 "nbformat": 4,
 "nbformat_minor": 2
}
